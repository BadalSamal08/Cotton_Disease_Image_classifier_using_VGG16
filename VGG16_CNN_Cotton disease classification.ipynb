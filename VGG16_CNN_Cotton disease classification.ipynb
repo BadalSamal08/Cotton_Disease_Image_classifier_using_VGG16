{
 "cells": [
  {
   "cell_type": "code",
   "execution_count": 1,
   "id": "999ac59c",
   "metadata": {},
   "outputs": [],
   "source": [
    "# import the libraries as shown below\n",
    "from tensorflow.keras.layers import Input, Lambda, Dense, Flatten\n",
    "from tensorflow.keras.models import Model\n",
    "from tensorflow.keras.applications.vgg16 import VGG16\n",
    "from tensorflow.keras.applications.vgg19 import VGG19\n",
    "from tensorflow.keras.preprocessing import image\n",
    "from tensorflow.keras.preprocessing.image import ImageDataGenerator,load_img\n",
    "from tensorflow.keras.models import Sequential\n",
    "import numpy as np\n",
    "from glob import glob\n",
    "#import matplotlib.pyplot as plt"
   ]
  },
  {
   "cell_type": "code",
   "execution_count": 2,
   "id": "ca528a6e",
   "metadata": {},
   "outputs": [],
   "source": [
    "# re-size all the images to this\n",
    "IMAGE_SIZE = [224, 224]\n",
    "\n",
    "train_path = 'C:/Users/badal/Downloads/archive (3)/Cotton Disease/train'\n",
    "valid_path = 'C:/Users/badal/Downloads/archive (3)/Cotton Disease/test'"
   ]
  },
  {
   "cell_type": "code",
   "execution_count": 3,
   "id": "04dc2ba1",
   "metadata": {},
   "outputs": [],
   "source": [
    "# Import the VGG16 library as shown below and add preprocessing layer to the front of VGG\n",
    "# Here we will be using imagenet weights\n",
    "\n",
    "vgg16 = VGG16(input_shape=IMAGE_SIZE + [3], weights='imagenet', include_top=False)#include_top=False cur the 1st and last layer last layer will predict the output"
   ]
  },
  {
   "cell_type": "code",
   "execution_count": 4,
   "id": "29fd611f",
   "metadata": {},
   "outputs": [],
   "source": [
    "# don't train existing weights\n",
    "for layer in vgg16.layers:\n",
    "    layer.trainable = False#as we are using the existing weights of image net so we dont to retrain again only at the last layer training should be done"
   ]
  },
  {
   "cell_type": "code",
   "execution_count": 5,
   "id": "9ba6b6f9",
   "metadata": {},
   "outputs": [],
   "source": [
    "  # useful for getting number of output classes\n",
    "folders = glob('C:/Users/badal/Downloads/archive (3)/Cotton Disease/train*')"
   ]
  },
  {
   "cell_type": "code",
   "execution_count": 6,
   "id": "df59b261",
   "metadata": {},
   "outputs": [
    {
     "data": {
      "text/plain": [
       "['C:/Users/badal/Downloads/archive (3)/Cotton Disease\\\\train']"
      ]
     },
     "execution_count": 6,
     "metadata": {},
     "output_type": "execute_result"
    }
   ],
   "source": [
    "folders"
   ]
  },
  {
   "cell_type": "code",
   "execution_count": 7,
   "id": "b2393786",
   "metadata": {},
   "outputs": [
    {
     "data": {
      "text/plain": [
       "1"
      ]
     },
     "execution_count": 7,
     "metadata": {},
     "output_type": "execute_result"
    }
   ],
   "source": [
    "len(folders)"
   ]
  },
  {
   "cell_type": "code",
   "execution_count": 8,
   "id": "9a304d90",
   "metadata": {},
   "outputs": [],
   "source": [
    "# our layers - you can add more if you want\n",
    "x = Flatten()(vgg16.output)"
   ]
  },
  {
   "cell_type": "code",
   "execution_count": 9,
   "id": "85a38c8d",
   "metadata": {},
   "outputs": [],
   "source": [
    "num_classes=4\n",
    "prediction = Dense(num_classes, activation='softmax')(x)\n",
    "\n",
    "# create a model object\n",
    "model = Model(inputs=vgg16.input, outputs=prediction)"
   ]
  },
  {
   "cell_type": "code",
   "execution_count": 10,
   "id": "a188bc7b",
   "metadata": {},
   "outputs": [
    {
     "name": "stdout",
     "output_type": "stream",
     "text": [
      "Model: \"model\"\n",
      "_________________________________________________________________\n",
      " Layer (type)                Output Shape              Param #   \n",
      "=================================================================\n",
      " input_1 (InputLayer)        [(None, 224, 224, 3)]     0         \n",
      "                                                                 \n",
      " block1_conv1 (Conv2D)       (None, 224, 224, 64)      1792      \n",
      "                                                                 \n",
      " block1_conv2 (Conv2D)       (None, 224, 224, 64)      36928     \n",
      "                                                                 \n",
      " block1_pool (MaxPooling2D)  (None, 112, 112, 64)      0         \n",
      "                                                                 \n",
      " block2_conv1 (Conv2D)       (None, 112, 112, 128)     73856     \n",
      "                                                                 \n",
      " block2_conv2 (Conv2D)       (None, 112, 112, 128)     147584    \n",
      "                                                                 \n",
      " block2_pool (MaxPooling2D)  (None, 56, 56, 128)       0         \n",
      "                                                                 \n",
      " block3_conv1 (Conv2D)       (None, 56, 56, 256)       295168    \n",
      "                                                                 \n",
      " block3_conv2 (Conv2D)       (None, 56, 56, 256)       590080    \n",
      "                                                                 \n",
      " block3_conv3 (Conv2D)       (None, 56, 56, 256)       590080    \n",
      "                                                                 \n",
      " block3_pool (MaxPooling2D)  (None, 28, 28, 256)       0         \n",
      "                                                                 \n",
      " block4_conv1 (Conv2D)       (None, 28, 28, 512)       1180160   \n",
      "                                                                 \n",
      " block4_conv2 (Conv2D)       (None, 28, 28, 512)       2359808   \n",
      "                                                                 \n",
      " block4_conv3 (Conv2D)       (None, 28, 28, 512)       2359808   \n",
      "                                                                 \n",
      " block4_pool (MaxPooling2D)  (None, 14, 14, 512)       0         \n",
      "                                                                 \n",
      " block5_conv1 (Conv2D)       (None, 14, 14, 512)       2359808   \n",
      "                                                                 \n",
      " block5_conv2 (Conv2D)       (None, 14, 14, 512)       2359808   \n",
      "                                                                 \n",
      " block5_conv3 (Conv2D)       (None, 14, 14, 512)       2359808   \n",
      "                                                                 \n",
      " block5_pool (MaxPooling2D)  (None, 7, 7, 512)         0         \n",
      "                                                                 \n",
      " flatten (Flatten)           (None, 25088)             0         \n",
      "                                                                 \n",
      " dense (Dense)               (None, 4)                 100356    \n",
      "                                                                 \n",
      "=================================================================\n",
      "Total params: 14,815,044\n",
      "Trainable params: 100,356\n",
      "Non-trainable params: 14,714,688\n",
      "_________________________________________________________________\n"
     ]
    }
   ],
   "source": [
    "# view the structure of the model\n",
    "model.summary()"
   ]
  },
  {
   "cell_type": "code",
   "execution_count": 11,
   "id": "835b482e",
   "metadata": {},
   "outputs": [],
   "source": [
    "# tell the model what cost and optimization method to use\n",
    "model.compile(\n",
    "  loss='categorical_crossentropy',\n",
    "  optimizer='adam',\n",
    "  metrics=['accuracy']\n",
    ")"
   ]
  },
  {
   "cell_type": "code",
   "execution_count": 12,
   "id": "bde33de3",
   "metadata": {},
   "outputs": [],
   "source": [
    "# Use the Image Data Generator to import the images from the dataset\n",
    "from tensorflow.keras.preprocessing.image import ImageDataGenerator\n",
    "\n",
    "train_datagen = ImageDataGenerator(rescale = 1./255,\n",
    "                                   shear_range = 0.2,\n",
    "                                   zoom_range = 0.2,\n",
    "                                   horizontal_flip = True)\n",
    "\n",
    "test_datagen = ImageDataGenerator(rescale = 1./255)"
   ]
  },
  {
   "cell_type": "code",
   "execution_count": 14,
   "id": "b0c3c5d4",
   "metadata": {},
   "outputs": [
    {
     "name": "stdout",
     "output_type": "stream",
     "text": [
      "Found 1951 images belonging to 4 classes.\n"
     ]
    }
   ],
   "source": [
    "# Make sure you provide the same target size as initialied for the image size\n",
    "training_set = train_datagen.flow_from_directory('C:/Users/badal/Downloads/archive (3)/Cotton Disease/train',\n",
    "                                                 target_size = (224, 224),\n",
    "                                                 batch_size = 32,\n",
    "                                                 class_mode = 'categorical')"
   ]
  },
  {
   "cell_type": "code",
   "execution_count": 16,
   "id": "9c3f4ec0",
   "metadata": {},
   "outputs": [
    {
     "name": "stdout",
     "output_type": "stream",
     "text": [
      "Found 106 images belonging to 4 classes.\n"
     ]
    }
   ],
   "source": [
    "test_set = test_datagen.flow_from_directory('C:/Users/badal/Downloads/archive (3)/Cotton Disease/test',\n",
    "                                            target_size = (224, 224),\n",
    "                                            batch_size = 32,\n",
    "                                            class_mode = 'categorical')"
   ]
  },
  {
   "cell_type": "code",
   "execution_count": 17,
   "id": "b4426db7",
   "metadata": {},
   "outputs": [
    {
     "name": "stderr",
     "output_type": "stream",
     "text": [
      "C:\\Users\\badal\\AppData\\Local\\Temp\\ipykernel_9696\\1716041270.py:2: UserWarning: `Model.fit_generator` is deprecated and will be removed in a future version. Please use `Model.fit`, which supports generators.\n",
      "  r = model.fit_generator(\n"
     ]
    },
    {
     "name": "stdout",
     "output_type": "stream",
     "text": [
      "Epoch 1/20\n",
      "61/61 [==============================] - 263s 4s/step - loss: 0.6803 - accuracy: 0.7468 - val_loss: 0.3104 - val_accuracy: 0.8868\n",
      "Epoch 2/20\n",
      "61/61 [==============================] - 255s 4s/step - loss: 0.2247 - accuracy: 0.9200 - val_loss: 0.2051 - val_accuracy: 0.9434\n",
      "Epoch 3/20\n",
      "61/61 [==============================] - 252s 4s/step - loss: 0.1552 - accuracy: 0.9508 - val_loss: 0.2346 - val_accuracy: 0.8962\n",
      "Epoch 4/20\n",
      "61/61 [==============================] - 252s 4s/step - loss: 0.1240 - accuracy: 0.9580 - val_loss: 0.2121 - val_accuracy: 0.9434\n",
      "Epoch 5/20\n",
      "61/61 [==============================] - 248s 4s/step - loss: 0.1046 - accuracy: 0.9657 - val_loss: 0.1736 - val_accuracy: 0.9434\n",
      "Epoch 6/20\n",
      "61/61 [==============================] - 248s 4s/step - loss: 0.0992 - accuracy: 0.9621 - val_loss: 0.1217 - val_accuracy: 0.9528\n",
      "Epoch 7/20\n",
      "61/61 [==============================] - 248s 4s/step - loss: 0.0746 - accuracy: 0.9780 - val_loss: 0.1503 - val_accuracy: 0.9434\n",
      "Epoch 8/20\n",
      "61/61 [==============================] - 247s 4s/step - loss: 0.0779 - accuracy: 0.9739 - val_loss: 0.2133 - val_accuracy: 0.9151\n",
      "Epoch 9/20\n",
      "61/61 [==============================] - 247s 4s/step - loss: 0.0652 - accuracy: 0.9831 - val_loss: 0.1304 - val_accuracy: 0.9528\n",
      "Epoch 10/20\n",
      "61/61 [==============================] - 248s 4s/step - loss: 0.0535 - accuracy: 0.9841 - val_loss: 0.1217 - val_accuracy: 0.9528\n",
      "Epoch 11/20\n",
      "61/61 [==============================] - 248s 4s/step - loss: 0.0564 - accuracy: 0.9867 - val_loss: 0.1030 - val_accuracy: 0.9623\n",
      "Epoch 12/20\n",
      "61/61 [==============================] - 251s 4s/step - loss: 0.0475 - accuracy: 0.9862 - val_loss: 0.1242 - val_accuracy: 0.9528\n",
      "Epoch 13/20\n",
      "61/61 [==============================] - 248s 4s/step - loss: 0.0353 - accuracy: 0.9933 - val_loss: 0.0929 - val_accuracy: 0.9528\n",
      "Epoch 14/20\n",
      "61/61 [==============================] - 248s 4s/step - loss: 0.0374 - accuracy: 0.9913 - val_loss: 0.1435 - val_accuracy: 0.9623\n",
      "Epoch 15/20\n",
      "61/61 [==============================] - 248s 4s/step - loss: 0.0391 - accuracy: 0.9897 - val_loss: 0.1211 - val_accuracy: 0.9623\n",
      "Epoch 16/20\n",
      "61/61 [==============================] - 247s 4s/step - loss: 0.0358 - accuracy: 0.9867 - val_loss: 0.0991 - val_accuracy: 0.9717\n",
      "Epoch 17/20\n",
      "61/61 [==============================] - 247s 4s/step - loss: 0.0269 - accuracy: 0.9949 - val_loss: 0.1310 - val_accuracy: 0.9717\n",
      "Epoch 18/20\n",
      "61/61 [==============================] - 248s 4s/step - loss: 0.0260 - accuracy: 0.9949 - val_loss: 0.0995 - val_accuracy: 0.9717\n",
      "Epoch 19/20\n",
      "61/61 [==============================] - 248s 4s/step - loss: 0.0272 - accuracy: 0.9923 - val_loss: 0.0848 - val_accuracy: 0.9623\n",
      "Epoch 20/20\n",
      "61/61 [==============================] - 247s 4s/step - loss: 0.0258 - accuracy: 0.9944 - val_loss: 0.1389 - val_accuracy: 0.9528\n"
     ]
    }
   ],
   "source": [
    "# fit the model\n",
    "r = model.fit_generator(\n",
    "  training_set,\n",
    "  validation_data=test_set,\n",
    "  epochs=20,\n",
    "  steps_per_epoch=len(training_set),\n",
    "  validation_steps=len(test_set)\n",
    ")"
   ]
  },
  {
   "cell_type": "code",
   "execution_count": 19,
   "id": "f12e30f7",
   "metadata": {},
   "outputs": [],
   "source": [
    "import matplotlib.pyplot as plt"
   ]
  },
  {
   "cell_type": "code",
   "execution_count": 20,
   "id": "31d0be16",
   "metadata": {},
   "outputs": [
    {
     "data": {
      "image/png": "[encoded data removed]",
      "text/plain": [
       "<Figure size 640x480 with 1 Axes>"
      ]
     },
     "metadata": {},
     "output_type": "display_data"
    },
    {
     "data": {
      "image/png": "[encoded data removed]",
      "text/plain": [
       "<Figure size 640x480 with 1 Axes>"
      ]
     },
     "metadata": {},
     "output_type": "display_data"
    },
    {
     "data": {
      "text/plain": [
       "<Figure size 640x480 with 0 Axes>"
      ]
     },
     "metadata": {},
     "output_type": "display_data"
    }
   ],
   "source": [
    "# plot the loss\n",
    "plt.plot(r.history['loss'], label='train loss')\n",
    "plt.plot(r.history['val_loss'], label='val loss')\n",
    "plt.legend()\n",
    "plt.show()\n",
    "plt.savefig('LossVal_loss')\n",
    "\n",
    "# plot the accuracy\n",
    "plt.plot(r.history['accuracy'], label='train acc')\n",
    "plt.plot(r.history['val_accuracy'], label='val acc')\n",
    "plt.legend()\n",
    "plt.show()\n",
    "plt.savefig('AccVal_acc')"
   ]
  },
  {
   "cell_type": "code",
   "execution_count": 21,
   "id": "f0566bec",
   "metadata": {},
   "outputs": [
    {
     "name": "stdout",
     "output_type": "stream",
     "text": [
      "4/4 [==============================] - 15s 3s/step\n"
     ]
    }
   ],
   "source": [
    "y_pred = model.predict(test_set)"
   ]
  },
  {
   "cell_type": "code",
   "execution_count": 22,
   "id": "af06729b",
   "metadata": {},
   "outputs": [
    {
     "data": {
      "text/plain": [
       "array([[1.84898943e-06, 5.73096285e-03, 2.50606092e-07, 9.94266987e-01],\n",
       "       [5.43239585e-04, 3.83964896e-01, 7.49526254e-04, 6.14742219e-01],\n",
       "       [6.82208474e-06, 1.32252099e-02, 5.76031336e-04, 9.86191869e-01],\n",
       "       [6.50608882e-08, 9.99996960e-01, 9.45912348e-07, 1.91954609e-06],\n",
       "       [1.95137522e-06, 3.15668667e-03, 4.08341350e-07, 9.96840894e-01],\n",
       "       [1.34854872e-07, 9.99803782e-01, 1.55291616e-07, 1.95887071e-04],\n",
       "       [9.70246911e-01, 4.21561526e-05, 2.79983394e-02, 1.71271071e-03],\n",
       "       [9.91740465e-01, 7.14362614e-05, 8.18811078e-03, 7.47255324e-09],\n",
       "       [9.99959052e-01, 3.00051779e-05, 1.08588983e-05, 6.50882948e-09],\n",
       "       [9.08325455e-06, 9.92982209e-01, 4.19800756e-07, 7.00816978e-03],\n",
       "       [3.02350521e-03, 4.12467052e-04, 9.96553421e-01, 1.05957224e-05],\n",
       "       [2.31155264e-03, 3.05547610e-06, 9.97685075e-01, 3.27523651e-07],\n",
       "       [3.10760342e-08, 9.99982893e-01, 1.36304072e-06, 1.57762970e-05],\n",
       "       [3.49480688e-05, 9.99267697e-01, 1.33431809e-06, 6.96141506e-04],\n",
       "       [4.92258459e-06, 9.35940742e-01, 4.73417549e-06, 6.40497133e-02],\n",
       "       [9.95186687e-01, 1.08993936e-06, 4.81155934e-03, 7.12247925e-07],\n",
       "       [9.99863863e-01, 5.07316981e-05, 8.53665915e-05, 5.14916165e-10],\n",
       "       [3.08684685e-05, 1.05130605e-01, 3.87626606e-05, 8.94799769e-01],\n",
       "       [9.99999344e-01, 5.67314714e-07, 4.20069632e-08, 2.18574700e-10],\n",
       "       [9.99765158e-01, 8.21054418e-05, 8.83372268e-05, 6.43954772e-05],\n",
       "       [9.97746520e-06, 9.99814034e-01, 1.15258979e-06, 1.74831715e-04],\n",
       "       [2.34486324e-05, 4.05793250e-01, 1.80493167e-03, 5.92378438e-01],\n",
       "       [9.99995053e-01, 3.45474791e-06, 1.46765194e-06, 6.86299585e-12],\n",
       "       [2.80523479e-01, 7.19473779e-01, 2.53658391e-06, 1.71225523e-07],\n",
       "       [9.99988496e-01, 1.45148886e-06, 1.00467942e-05, 9.16478421e-11],\n",
       "       [2.85681326e-05, 4.66264831e-03, 1.10377767e-03, 9.94205117e-01],\n",
       "       [3.08093289e-03, 7.28930587e-08, 9.96918976e-01, 3.15408037e-08],\n",
       "       [6.03490902e-09, 9.56670593e-12, 9.99999940e-01, 1.94499121e-13],\n",
       "       [9.99163389e-01, 5.37871783e-05, 5.76934195e-04, 2.05781675e-04],\n",
       "       [5.13262494e-05, 4.01638681e-05, 9.99886096e-01, 2.23321003e-05],\n",
       "       [8.94377808e-06, 9.99919116e-01, 5.46040326e-07, 7.12358305e-05],\n",
       "       [2.49351018e-07, 9.36555036e-04, 6.56277393e-07, 9.99062598e-01],\n",
       "       [8.20219975e-06, 6.86385632e-02, 2.57915561e-03, 9.28774118e-01],\n",
       "       [5.62179230e-06, 2.01581158e-02, 3.45906272e-04, 9.79490340e-01],\n",
       "       [1.21265650e-02, 5.19867279e-02, 1.65100186e-03, 9.34235692e-01],\n",
       "       [4.74198600e-07, 9.99993503e-01, 4.74381807e-07, 5.43310898e-06],\n",
       "       [5.02312381e-04, 4.34816658e-01, 5.64556122e-01, 1.24903454e-04],\n",
       "       [9.99979079e-01, 7.32269598e-07, 2.00907652e-05, 1.52755693e-08],\n",
       "       [1.10298558e-07, 9.99997914e-01, 2.23363202e-07, 1.61440789e-06],\n",
       "       [9.99486625e-01, 9.14457559e-08, 5.12814790e-04, 3.63190935e-07],\n",
       "       [3.02473012e-07, 9.99910891e-01, 3.17760041e-08, 8.86895577e-05],\n",
       "       [6.76157157e-08, 1.60415744e-04, 6.65839434e-06, 9.99832869e-01],\n",
       "       [7.79798502e-05, 5.24513950e-07, 9.99920428e-01, 1.00552688e-06],\n",
       "       [6.59688908e-08, 9.99999821e-01, 3.28733063e-09, 4.89724208e-08],\n",
       "       [7.35130561e-06, 1.00032589e-03, 5.13692271e-07, 9.98991847e-01],\n",
       "       [8.87562912e-09, 9.99998510e-01, 2.60873723e-08, 1.43782802e-06],\n",
       "       [5.35045501e-06, 9.99912798e-01, 1.62398064e-05, 6.55821277e-05],\n",
       "       [1.16017461e-02, 2.14419346e-02, 9.54811573e-01, 1.21447807e-02],\n",
       "       [7.93610886e-03, 1.22143924e-02, 8.17467093e-01, 1.62382394e-01],\n",
       "       [3.47835885e-06, 9.99844313e-01, 4.85699843e-07, 1.51888715e-04],\n",
       "       [2.16596504e-06, 9.99978006e-01, 7.10657346e-08, 1.96614037e-05],\n",
       "       [9.99888718e-01, 1.10473527e-04, 7.12217116e-07, 3.08408654e-09],\n",
       "       [9.04024411e-09, 9.99996245e-01, 2.85136004e-08, 3.66521886e-06],\n",
       "       [9.99929965e-01, 2.79275882e-05, 4.08001688e-05, 1.26621228e-06],\n",
       "       [3.97090849e-09, 9.99999821e-01, 1.19211405e-10, 1.19514610e-07],\n",
       "       [1.84951117e-04, 6.48819268e-01, 4.37988056e-05, 3.50951910e-01],\n",
       "       [9.45429504e-01, 1.17769869e-05, 5.45587093e-02, 3.99349318e-08],\n",
       "       [2.62291217e-03, 2.08846222e-06, 9.97375011e-01, 3.00914991e-08],\n",
       "       [5.89112460e-05, 2.76076257e-01, 4.51392998e-06, 7.23860323e-01],\n",
       "       [3.06678121e-05, 4.06302991e-09, 9.99969304e-01, 3.06118439e-13],\n",
       "       [4.67058250e-08, 9.99997556e-01, 7.39456709e-07, 1.71813758e-06],\n",
       "       [7.47184868e-06, 1.09017293e-07, 9.99992311e-01, 7.08600956e-11],\n",
       "       [6.78395882e-05, 1.66516795e-04, 9.99187052e-01, 5.78509294e-04],\n",
       "       [4.72504435e-05, 9.89237353e-02, 1.92825845e-03, 8.99100661e-01],\n",
       "       [1.52072255e-06, 1.54087520e-05, 2.98812597e-06, 9.99980032e-01],\n",
       "       [1.90875454e-07, 8.59822109e-12, 9.99999702e-01, 1.30764258e-12],\n",
       "       [9.62928776e-03, 1.26814749e-02, 2.11997104e-07, 9.77689028e-01],\n",
       "       [1.68818951e-06, 9.99973357e-01, 7.33776801e-07, 2.42107562e-05],\n",
       "       [7.38275921e-05, 3.02901305e-03, 9.96896446e-01, 6.63441142e-07],\n",
       "       [9.98801827e-01, 1.46239449e-06, 1.19606825e-03, 7.20968956e-07],\n",
       "       [7.91401135e-07, 1.93931569e-07, 9.99998629e-01, 3.59750970e-07],\n",
       "       [1.37572825e-01, 5.53360349e-03, 8.47221732e-01, 9.67177469e-03],\n",
       "       [5.32399747e-04, 4.14750636e-01, 3.33827011e-05, 5.84683537e-01],\n",
       "       [3.43063938e-10, 9.99999940e-01, 6.93267332e-10, 1.79875883e-08],\n",
       "       [3.27075168e-06, 1.13970311e-02, 4.96870780e-05, 9.88550007e-01],\n",
       "       [9.87676467e-05, 5.67512734e-06, 9.99578178e-01, 3.17301921e-04],\n",
       "       [8.71163763e-07, 9.48336162e-03, 1.71521155e-04, 9.90344286e-01],\n",
       "       [9.99648273e-01, 3.80794991e-05, 3.13588360e-04, 2.03187014e-08],\n",
       "       [9.48892534e-07, 4.76666354e-03, 5.08130906e-05, 9.95181501e-01],\n",
       "       [9.99852419e-01, 1.47613100e-04, 1.56990021e-09, 2.45439433e-11],\n",
       "       [1.30358705e-04, 2.86712254e-09, 9.99869585e-01, 5.38537659e-10],\n",
       "       [9.99997318e-01, 2.09387531e-06, 4.78965831e-07, 1.10377929e-09],\n",
       "       [5.14134035e-06, 9.98286009e-01, 1.75809009e-06, 1.70717225e-03],\n",
       "       [2.42486158e-06, 9.94153023e-01, 7.58560248e-07, 5.84386662e-03],\n",
       "       [7.30771353e-05, 7.11092260e-04, 9.99215782e-01, 3.26102736e-08],\n",
       "       [5.54110784e-07, 9.99395370e-01, 2.77293875e-04, 3.26615176e-04],\n",
       "       [1.71183448e-04, 2.20459824e-05, 9.99806881e-01, 5.78308565e-08],\n",
       "       [1.19856986e-06, 9.90166366e-02, 2.07902463e-06, 9.00980055e-01],\n",
       "       [2.61488271e-08, 3.58438657e-09, 1.65323385e-07, 9.99999702e-01],\n",
       "       [1.13549240e-05, 2.01914888e-02, 9.79242742e-01, 5.54366503e-04],\n",
       "       [3.82593726e-06, 9.95170891e-01, 2.68423605e-06, 4.82258853e-03],\n",
       "       [8.23786759e-05, 1.14302267e-07, 9.99917448e-01, 2.54321954e-12],\n",
       "       [9.99929368e-01, 6.46998305e-05, 5.70045540e-06, 1.38386838e-07],\n",
       "       [8.61732196e-03, 1.63767949e-01, 6.65579177e-03, 8.20958972e-01],\n",
       "       [7.85271265e-03, 9.67678845e-01, 1.02356295e-04, 2.43660156e-02],\n",
       "       [8.32211572e-06, 7.96803601e-09, 9.99991596e-01, 2.52046689e-10],\n",
       "       [1.28395361e-04, 2.69046951e-10, 9.99871731e-01, 3.23722386e-12],\n",
       "       [1.30966407e-06, 1.09138367e-04, 9.99772310e-01, 1.17331721e-04],\n",
       "       [4.61052423e-06, 9.50484630e-03, 1.54995287e-05, 9.90474999e-01],\n",
       "       [9.52051342e-01, 3.03797751e-05, 4.79178801e-02, 2.95186368e-07],\n",
       "       [2.95834453e-03, 3.63859348e-03, 9.86529708e-01, 6.87334733e-03],\n",
       "       [9.99978364e-01, 3.31808769e-06, 1.80961415e-05, 1.63994528e-07],\n",
       "       [9.99969661e-01, 1.34194522e-07, 2.87384064e-05, 1.48800905e-06],\n",
       "       [3.34729094e-07, 9.99804735e-01, 3.39081610e-11, 1.94951717e-04],\n",
       "       [6.78395227e-05, 1.66516795e-04, 9.99187052e-01, 5.78509294e-04],\n",
       "       [2.66626614e-07, 9.99992490e-01, 1.05983119e-07, 7.15952638e-06]],\n",
       "      dtype=float32)"
      ]
     },
     "execution_count": 22,
     "metadata": {},
     "output_type": "execute_result"
    }
   ],
   "source": [
    "y_pred"
   ]
  },
  {
   "cell_type": "code",
   "execution_count": null,
   "id": "2632cd39",
   "metadata": {},
   "outputs": [],
   "source": []
  }
 ],
 "metadata": {
  "kernelspec": {
   "display_name": "Python 3 (ipykernel)",
   "language": "python",
   "name": "python3"
  },
  "language_info": {
   "codemirror_mode": {
    "name": "ipython",
    "version": 3
   },
   "file_extension": ".py",
   "mimetype": "text/x-python",
   "name": "python",
   "nbconvert_exporter": "python",
   "pygments_lexer": "ipython3",
   "version": "3.9.17"
  }
 },
 "nbformat": 4,
 "nbformat_minor": 5
}
